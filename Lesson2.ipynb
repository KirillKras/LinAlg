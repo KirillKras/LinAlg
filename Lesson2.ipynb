{
 "cells": [
  {
   "cell_type": "code",
   "execution_count": 1,
   "outputs": [],
   "source": [
    "import numpy as np"
   ],
   "metadata": {
    "collapsed": false,
    "pycharm": {
     "name": "#%%\n",
     "is_executing": false
    }
   }
  },
  {
   "cell_type": "markdown",
   "source": [
    "### Задание 1\n",
    "Установить, какие произведения матриц  𝐴𝐵  и  𝐵𝐴  определены,  \n",
    "и найти размерности полученных матриц:\n",
    "а)  A — матрица  4×2 ,  B — матрица  4×2  \n",
    "б)  A — матрица  2×5 ,  B — матрица  5×3  \n",
    "в)  A — матрица  8×3 ,  B — матрица  3×8  \n",
    "г)  A — матрица  4×4 ,  B — матрица  4×4 .\n",
    "\n",
    "\n"
   ],
   "metadata": {
    "collapsed": false
   }
  },
  {
   "cell_type": "markdown",
   "source": [
    "### Решение 1\n",
    "а) не определено  \n",
    "б) определено  \n",
    "в) определено  \n",
    "г) определено  "
   ],
   "metadata": {
    "collapsed": false
   }
  },
  {
   "cell_type": "markdown",
   "source": [
    "### Задание 2  \n",
    "Найти сумму и произведение матриц \n",
    "$A=\\begin{pmatrix}\n",
    "1 & -2\\\\ \n",
    "3 & 0\n",
    "\\end{pmatrix}$ и \n",
    "$B=\\begin{pmatrix}\n",
    "4 & -1\\\\ \n",
    "0 & 5\n",
    "\\end{pmatrix}.$"
   ],
   "metadata": {
    "collapsed": false,
    "pycharm": {
     "name": "#%% md\n"
    }
   }
  },
  {
   "cell_type": "markdown",
   "source": [
    "### Решение 3\n",
    "\\begin{pmatrix}\n",
    "1 & -2\\\\ \n",
    "3 & 0\n",
    "\\end{pmatrix}$ + \n",
    "\\begin{pmatrix}4 & -1\\\\ 0 & 5\\end{pmatrix}$ = \n",
    "\\begin{pmatrix}\n",
    "1+4 & -2-1\\\\\n",
    "3+0 & 0+5\n",
    "\\end{pmatrix} = \n",
    "\\begin{pmatrix}\n",
    "5 & -3\\\\\n",
    "3 & 5\\\\\n",
    "\\end{pmatrix}  \n",
    "\\begin{pmatrix}\n",
    "1 & -2\\\\ \n",
    "3 & 0\n",
    "\\end{pmatrix}$ * \n",
    "\\begin{pmatrix}4 & -1\\\\ 0 & 5\\end{pmatrix}$ = \n",
    "\\begin{pmatrix}\n",
    "1*4-2*0 & -1*1-2*5\\\\\n",
    "3*4+0 & -3*1+0*5\\\\\n",
    "\\end{pmatrix} = \n",
    "\\begin{pmatrix}\n",
    "4 & -11\\\\\n",
    "12 & -3\\\\\n",
    "\\end{pmatrix}"
   ],
   "metadata": {
    "collapsed": false
   }
  },
  {
   "cell_type": "code",
   "execution_count": 2,
   "outputs": [
    {
     "name": "stdout",
     "text": [
      "A + B =\n",
      "[[ 5 -3]\n",
      " [ 3  5]]\n",
      "A * B =\n",
      "[[  4 -11]\n",
      " [ 12  -3]]\n"
     ],
     "output_type": "stream"
    }
   ],
   "source": [
    "A = np.array([[1, -2], [3, 0]])\n",
    "B = np.array([[4, -1], [0, 5]])\n",
    "print(f'A + B =\\n{A+B}')\n",
    "print(f'A * B =\\n{A.dot(B)}')"
   ],
   "metadata": {
    "collapsed": false,
    "pycharm": {
     "name": "#%%\n",
     "is_executing": false
    }
   }
  },
  {
   "cell_type": "markdown",
   "source": [
    "### Задание 3\n",
    "Из закономерностей сложения и умножения матриц на число можно сделать вывод,  \n",
    "что матрицы одного размера образуют линейное пространство.  \n",
    "Вычислить линейную комбинацию $3A-2B+4C$ для матриц:  \n",
    "$A=\\begin{pmatrix}\n",
    "1 & 7\\\\ \n",
    "3 & -6\n",
    "\\end{pmatrix}$, \n",
    "$B=\\begin{pmatrix}\n",
    "0 & 5\\\\ \n",
    "2 & -1\n",
    "\\end{pmatrix}$, \n",
    "$C=\\begin{pmatrix}\n",
    "2 & -4\\\\ \n",
    "1 & 1\n",
    "\\end{pmatrix}.$"
   ],
   "metadata": {
    "collapsed": false,
    "pycharm": {
     "name": "#%% md\n"
    }
   }
  },
  {
   "cell_type": "markdown",
   "source": [
    "### Решение 3\n",
    "Матрицы одного размера образуют линейное пространство,  \n",
    "так как на них определены операции сложения и умножения на скаляр.\n",
    "3 * \\begin{pmatrix}\n",
    "1 & 7\\\\ \n",
    "3 & -6\n",
    "\\end{pmatrix} - \n",
    "2 * \\begin{pmatrix}\n",
    "0 & 5\\\\ \n",
    "2 & -1\n",
    "\\end{pmatrix} + \n",
    "4 * \\begin{pmatrix}\n",
    "2 & -4\\\\ \n",
    "1 & 1\n",
    "\\end{pmatrix} = \n",
    "\\begin{pmatrix}\n",
    "3*1-0+4*2 & 3*7-2*5-4*4\\\\\n",
    "3*3-2*2+4 & -6*3+2*1+4*1\n",
    "\\end{pmatrix} = \n",
    "\\begin{pmatrix}\n",
    "11 & -5\\\\\n",
    "9 & -12\n",
    "\\end{pmatrix}"
   ],
   "metadata": {
    "collapsed": false
   }
  },
  {
   "cell_type": "markdown",
   "source": [
    "### Задание 4\n",
    "Дана матрица $A=\\begin{pmatrix}\n",
    "4 & 1\\\\ \n",
    "5 & -2\\\\ \n",
    "2 & 3\n",
    "\\end{pmatrix}$.\n",
    "Вычислить $AA^{T}$ и $A^{T}A$. "
   ],
   "metadata": {
    "collapsed": false
   }
  },
  {
   "cell_type": "markdown",
   "source": [
    "### Решение 4\n",
    "$A^T$ = \n",
    "\\begin{pmatrix}\n",
    "4 & 5 & 2\\\\\n",
    "1 & -2 & 3\n",
    "\\end{pmatrix}\n",
    "\n",
    "$A * $$A^T$ = \n",
    "\\begin{pmatrix}\n",
    "4*4+1*1 & 4*5-2*1 & 4*2+1*3\\\\\n",
    "5*4-2*1 & 5*5+2*2 & 5*2-2*3\\\\\n",
    "2*4+3 & 2*5-3*2 & 2*2+3*3\n",
    "\\end{pmatrix} = \n",
    "\\begin{pmatrix}\n",
    "17 & 18 & 11\\\\\n",
    "18 & 29 & 4\\\\\n",
    "11 & 4 & 13\n",
    "\\end{pmatrix}  \n",
    "\n",
    "$A^T$ * A =\n",
    "\\begin{pmatrix}\n",
    "4*4+5*5+2*2 & 4*1-5*2+2*3\\\\\n",
    "1*4-2*5+3*2 & 1*1+2*2+3*3\n",
    "\\end{pmatrix} = \n",
    "\\begin{pmatrix}\n",
    "45 & 0\\\\\n",
    "0 & 14\n",
    "\\end{pmatrix}"
   ],
   "metadata": {
    "collapsed": false
   }
  },
  {
   "cell_type": "code",
   "execution_count": 3,
   "outputs": [
    {
     "name": "stdout",
     "text": [
      "[[17 18 11]\n",
      " [18 29  4]\n",
      " [11  4 13]]\n",
      "[[45  0]\n",
      " [ 0 14]]\n"
     ],
     "output_type": "stream"
    }
   ],
   "source": [
    "A = np.array([[4, 1], [5, -2], [2, 3]])\n",
    "print(A.dot(A.T))\n",
    "print(A.T.dot(A))"
   ],
   "metadata": {
    "collapsed": false,
    "pycharm": {
     "name": "#%%\n",
     "is_executing": false
    }
   }
  },
  {
   "cell_type": "markdown",
   "source": [
    "### Задание 5\n",
    "Написать на Python функцию для перемножения двух произвольных матриц,  \n",
    "не используя NumPy."
   ],
   "metadata": {
    "collapsed": false,
    "pycharm": {
     "name": "#%% md\n"
    }
   }
  },
  {
   "cell_type": "code",
   "execution_count": 9,
   "outputs": [],
   "source": [
    "def matrix_multi(a: np.array, b: np.array) -> np.array:\n",
    "    assert a.shape[1] == b.shape[0]\n",
    "    c = np.zeros([b.shape[1], a.shape[0]])\n",
    "    for i in range(a.shape[0]):\n",
    "        for j in range(b.shape[1]):\n",
    "            c[j, i] = sum([_a * _b for _a, _b in zip(a[i, :], b[:, j])])\n",
    "    return c         "
   ],
   "metadata": {
    "collapsed": false,
    "pycharm": {
     "name": "#%%\n",
     "is_executing": false
    }
   }
  },
  {
   "cell_type": "code",
   "execution_count": 10,
   "outputs": [
    {
     "data": {
      "text/plain": "array([[17., 18., 11.],\n       [18., 29.,  4.],\n       [11.,  4., 13.]])"
     },
     "metadata": {},
     "output_type": "execute_result",
     "execution_count": 10
    }
   ],
   "source": [
    "matrix_multi(A, A.T)"
   ],
   "metadata": {
    "collapsed": false,
    "pycharm": {
     "name": "#%%\n",
     "is_executing": false
    }
   }
  },
  {
   "cell_type": "code",
   "execution_count": null,
   "outputs": [],
   "source": [
    "\n"
   ],
   "metadata": {
    "collapsed": false,
    "pycharm": {
     "name": "#%%\n"
    }
   }
  }
 ],
 "metadata": {
  "kernelspec": {
   "display_name": "Python 3",
   "language": "python",
   "name": "python3"
  },
  "language_info": {
   "codemirror_mode": {
    "name": "ipython",
    "version": 2
   },
   "file_extension": ".py",
   "mimetype": "text/x-python",
   "name": "python",
   "nbconvert_exporter": "python",
   "pygments_lexer": "ipython2",
   "version": "2.7.6"
  },
  "pycharm": {
   "stem_cell": {
    "cell_type": "raw",
    "source": [],
    "metadata": {
     "collapsed": false
    }
   }
  }
 },
 "nbformat": 4,
 "nbformat_minor": 0
}