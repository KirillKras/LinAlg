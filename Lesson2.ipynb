{
 "cells": [
  {
   "cell_type": "code",
   "execution_count": 2,
   "outputs": [],
   "source": [
    "import numpy as np"
   ],
   "metadata": {
    "collapsed": false,
    "pycharm": {
     "name": "#%%\n",
     "is_executing": false
    }
   }
  },
  {
   "cell_type": "markdown",
   "source": [
    "### Задание 1.1\n",
    "Установить, какие произведения матриц  𝐴𝐵  и  𝐵𝐴  определены,  \n",
    "и найти размерности полученных матриц:\n",
    "а)  A — матрица  4×2 ,  B — матрица  4×2  \n",
    "б)  A — матрица  2×5 ,  B — матрица  5×3  \n",
    "в)  A — матрица  8×3 ,  B — матрица  3×8  \n",
    "г)  A — матрица  4×4 ,  B — матрица  4×4 .\n",
    "\n",
    "\n"
   ],
   "metadata": {
    "collapsed": false
   }
  },
  {
   "cell_type": "markdown",
   "source": [
    "### Решение 1.1\n",
    "а) не определено  \n",
    "б) определено  \n",
    "в) определено  \n",
    "г) определено  "
   ],
   "metadata": {
    "collapsed": false
   }
  },
  {
   "cell_type": "markdown",
   "source": [
    "### Задание 1.2  \n",
    "Найти сумму и произведение матриц \n",
    "$A=\\begin{pmatrix}\n",
    "1 & -2\\\\ \n",
    "3 & 0\n",
    "\\end{pmatrix}$ и \n",
    "$B=\\begin{pmatrix}\n",
    "4 & -1\\\\ \n",
    "0 & 5\n",
    "\\end{pmatrix}.$"
   ],
   "metadata": {
    "collapsed": false,
    "pycharm": {
     "name": "#%% md\n"
    }
   }
  },
  {
   "cell_type": "markdown",
   "source": [
    "### Решение 1.3\n",
    "\\begin{pmatrix}\n",
    "1 & -2\\\\ \n",
    "3 & 0\n",
    "\\end{pmatrix}$ + \n",
    "\\begin{pmatrix}4 & -1\\\\ 0 & 5\\end{pmatrix}$ = \n",
    "\\begin{pmatrix}\n",
    "1+4 & -2-1\\\\\n",
    "3+0 & 0+5\n",
    "\\end{pmatrix} = \n",
    "\\begin{pmatrix}\n",
    "5 & -3\\\\\n",
    "3 & 5\\\\\n",
    "\\end{pmatrix}  \n",
    "\\begin{pmatrix}\n",
    "1 & -2\\\\ \n",
    "3 & 0\n",
    "\\end{pmatrix}$ * \n",
    "\\begin{pmatrix}4 & -1\\\\ 0 & 5\\end{pmatrix}$ = \n",
    "\\begin{pmatrix}\n",
    "1*4-2*0 & -1*1-2*5\\\\\n",
    "3*4+0 & -3*1+0*5\\\\\n",
    "\\end{pmatrix} = \n",
    "\\begin{pmatrix}\n",
    "4 & -11\\\\\n",
    "12 & -3\\\\\n",
    "\\end{pmatrix}"
   ],
   "metadata": {
    "collapsed": false
   }
  },
  {
   "cell_type": "code",
   "execution_count": 2,
   "outputs": [
    {
     "name": "stdout",
     "text": [
      "A + B =\n",
      "[[ 5 -3]\n",
      " [ 3  5]]\n",
      "A * B =\n",
      "[[  4 -11]\n",
      " [ 12  -3]]\n"
     ],
     "output_type": "stream"
    }
   ],
   "source": [
    "A = np.array([[1, -2], [3, 0]])\n",
    "B = np.array([[4, -1], [0, 5]])\n",
    "print(f'A + B =\\n{A+B}')\n",
    "print(f'A * B =\\n{A.dot(B)}')"
   ],
   "metadata": {
    "collapsed": false,
    "pycharm": {
     "name": "#%%\n",
     "is_executing": false
    }
   }
  },
  {
   "cell_type": "markdown",
   "source": [
    "### Задание 1.3\n",
    "Из закономерностей сложения и умножения матриц на число можно сделать вывод,  \n",
    "что матрицы одного размера образуют линейное пространство.  \n",
    "Вычислить линейную комбинацию $3A-2B+4C$ для матриц:  \n",
    "$A=\\begin{pmatrix}\n",
    "1 & 7\\\\ \n",
    "3 & -6\n",
    "\\end{pmatrix}$, \n",
    "$B=\\begin{pmatrix}\n",
    "0 & 5\\\\ \n",
    "2 & -1\n",
    "\\end{pmatrix}$, \n",
    "$C=\\begin{pmatrix}\n",
    "2 & -4\\\\ \n",
    "1 & 1\n",
    "\\end{pmatrix}.$"
   ],
   "metadata": {
    "collapsed": false,
    "pycharm": {
     "name": "#%% md\n"
    }
   }
  },
  {
   "cell_type": "markdown",
   "source": [
    "### Решение 1.3\n",
    "Матрицы одного размера образуют линейное пространство,  \n",
    "так как на них определены операции сложения и умножения на скаляр.\n",
    "3 * \\begin{pmatrix}\n",
    "1 & 7\\\\ \n",
    "3 & -6\n",
    "\\end{pmatrix} - \n",
    "2 * \\begin{pmatrix}\n",
    "0 & 5\\\\ \n",
    "2 & -1\n",
    "\\end{pmatrix} + \n",
    "4 * \\begin{pmatrix}\n",
    "2 & -4\\\\ \n",
    "1 & 1\n",
    "\\end{pmatrix} = \n",
    "\\begin{pmatrix}\n",
    "3*1-0+4*2 & 3*7-2*5-4*4\\\\\n",
    "3*3-2*2+4 & -6*3+2*1+4*1\n",
    "\\end{pmatrix} = \n",
    "\\begin{pmatrix}\n",
    "11 & -5\\\\\n",
    "9 & -12\n",
    "\\end{pmatrix}"
   ],
   "metadata": {
    "collapsed": false
   }
  },
  {
   "cell_type": "markdown",
   "source": [
    "### Задание 1.4\n",
    "Дана матрица $A=\\begin{pmatrix}\n",
    "4 & 1\\\\ \n",
    "5 & -2\\\\ \n",
    "2 & 3\n",
    "\\end{pmatrix}$.\n",
    "Вычислить $AA^{T}$ и $A^{T}A$. "
   ],
   "metadata": {
    "collapsed": false
   }
  },
  {
   "cell_type": "markdown",
   "source": [
    "### Решение 1.4\n",
    "$A^T$ = \n",
    "\\begin{pmatrix}\n",
    "4 & 5 & 2\\\\\n",
    "1 & -2 & 3\n",
    "\\end{pmatrix}\n",
    "\n",
    "$A * $$A^T$ = \n",
    "\\begin{pmatrix}\n",
    "4*4+1*1 & 4*5-2*1 & 4*2+1*3\\\\\n",
    "5*4-2*1 & 5*5+2*2 & 5*2-2*3\\\\\n",
    "2*4+3 & 2*5-3*2 & 2*2+3*3\n",
    "\\end{pmatrix} = \n",
    "\\begin{pmatrix}\n",
    "17 & 18 & 11\\\\\n",
    "18 & 29 & 4\\\\\n",
    "11 & 4 & 13\n",
    "\\end{pmatrix}  \n",
    "\n",
    "$A^T$ * A =\n",
    "\\begin{pmatrix}\n",
    "4*4+5*5+2*2 & 4*1-5*2+2*3\\\\\n",
    "1*4-2*5+3*2 & 1*1+2*2+3*3\n",
    "\\end{pmatrix} = \n",
    "\\begin{pmatrix}\n",
    "45 & 0\\\\\n",
    "0 & 14\n",
    "\\end{pmatrix}"
   ],
   "metadata": {
    "collapsed": false
   }
  },
  {
   "cell_type": "code",
   "execution_count": 3,
   "outputs": [
    {
     "name": "stdout",
     "text": [
      "[[17 18 11]\n",
      " [18 29  4]\n",
      " [11  4 13]]\n",
      "[[45  0]\n",
      " [ 0 14]]\n"
     ],
     "output_type": "stream"
    }
   ],
   "source": [
    "A = np.array([[4, 1], [5, -2], [2, 3]])\n",
    "print(A.dot(A.T))\n",
    "print(A.T.dot(A))"
   ],
   "metadata": {
    "collapsed": false,
    "pycharm": {
     "name": "#%%\n",
     "is_executing": false
    }
   }
  },
  {
   "cell_type": "markdown",
   "source": [
    "### Задание 1.5\n",
    "Написать на Python функцию для перемножения двух произвольных матриц,  \n",
    "не используя NumPy."
   ],
   "metadata": {
    "collapsed": false,
    "pycharm": {
     "name": "#%% md\n"
    }
   }
  },
  {
   "cell_type": "code",
   "execution_count": 9,
   "outputs": [],
   "source": [
    "def matrix_multi(a: np.array, b: np.array) -> np.array:\n",
    "    assert a.shape[1] == b.shape[0]\n",
    "    c = np.zeros([b.shape[1], a.shape[0]])\n",
    "    for i in range(a.shape[0]):\n",
    "        for j in range(b.shape[1]):\n",
    "            c[j, i] = sum([_a * _b for _a, _b in zip(a[i, :], b[:, j])])\n",
    "    return c         "
   ],
   "metadata": {
    "collapsed": false,
    "pycharm": {
     "name": "#%%\n",
     "is_executing": false
    }
   }
  },
  {
   "cell_type": "code",
   "execution_count": 10,
   "outputs": [
    {
     "data": {
      "text/plain": "array([[17., 18., 11.],\n       [18., 29.,  4.],\n       [11.,  4., 13.]])"
     },
     "metadata": {},
     "output_type": "execute_result",
     "execution_count": 10
    }
   ],
   "source": [
    "matrix_multi(A, A.T)"
   ],
   "metadata": {
    "collapsed": false,
    "pycharm": {
     "name": "#%%\n",
     "is_executing": false
    }
   }
  },
  {
   "cell_type": "markdown",
   "source": [
    "### Задание 2.1\n",
    "Найти определители матриц"
   ],
   "metadata": {
    "collapsed": false,
    "pycharm": {
     "name": "#%% md\n"
    }
   }
  },
  {
   "cell_type": "code",
   "execution_count": 11,
   "outputs": [],
   "source": [
    "from itertools import permutations\n",
    "from functools import reduce"
   ],
   "metadata": {
    "collapsed": false,
    "pycharm": {
     "name": "#%%\n",
     "is_executing": false
    }
   }
  },
  {
   "cell_type": "code",
   "execution_count": 12,
   "outputs": [],
   "source": [
    "def my_det(a: np.array) -> float:\n",
    "    assert a.shape[0] == a.shape[1]\n",
    "    m = [i for i in range(a.shape[0])]\n",
    "    perm = [p for p in permutations(m)]\n",
    "    inv = []\n",
    "    for p in perm:\n",
    "        inv_ = 0\n",
    "        for pos_i, i in enumerate(p):\n",
    "            for pos_j, j in enumerate(p):\n",
    "                if pos_j > pos_i:\n",
    "                    if i > j:\n",
    "                        inv_ += 1\n",
    "        inv.append(inv_)\n",
    "    res_array = []\n",
    "    for i, p in enumerate(perm):\n",
    "        res = [a[c, r] for c, r in enumerate(p)]\n",
    "        res_reduce = reduce(lambda x, y: x*y, res)\n",
    "        res_array.append(res_reduce * pow(-1, inv[i]))\n",
    "    return sum(res_array)"
   ],
   "metadata": {
    "collapsed": false,
    "pycharm": {
     "name": "#%%\n",
     "is_executing": false
    }
   }
  },
  {
   "cell_type": "markdown",
   "source": [
    "a)\n",
    "\\begin{vmatrix}\n",
    "sinx & -cosx\\\\ \n",
    "cosx & sinx\n",
    "\\end{vmatrix} = \n",
    "sinx * sinx + cosx * cosx = 1\n",
    "\n",
    "b)\n",
    "\\begin{vmatrix}\n",
    "4 & 2 & 3\\\\ \n",
    "0 & 5 & 1\\\\ \n",
    "0 & 0 & 9\n",
    "\\end{vmatrix} = \n",
    "4 * 5 * 9 = 180\n",
    "\n",
    "c) A = \n",
    "\\begin{vmatrix}\n",
    "1 & 2 & 3\\\\ \n",
    "4 & 5 & 6\\\\ \n",
    "7 & 8 & 9\n",
    "\\end{vmatrix}  "
   ],
   "metadata": {
    "collapsed": false,
    "pycharm": {
     "name": "#%% md\n"
    }
   }
  },
  {
   "cell_type": "code",
   "execution_count": 13,
   "outputs": [
    {
     "name": "stdout",
     "text": [
      "det A = 0\n"
     ],
     "output_type": "stream"
    }
   ],
   "source": [
    "A = np.array([[1,2,3], [4,5,6], [7,8,9]])\n",
    "print(f'det A = {my_det(A)}')\n"
   ],
   "metadata": {
    "collapsed": false,
    "pycharm": {
     "name": "#%%\n",
     "is_executing": false
    }
   }
  },
  {
   "cell_type": "markdown",
   "source": [
    "### Задание 2.2\n",
    "Определитель матрицы $A$ равен $4$. Найти:  \n",
    "а) $det(A^{2})$;  \n",
    "б) $det(A^{T})$;  \n",
    "в) $det(2A)$."
   ],
   "metadata": {
    "collapsed": false,
    "pycharm": {
     "name": "#%% md\n"
    }
   }
  },
  {
   "cell_type": "markdown",
   "source": [
    "### Решение 2.2\n",
    "а)16  \n",
    "б)4  \n",
    "с)8"
   ],
   "metadata": {
    "collapsed": false
   }
  },
  {
   "cell_type": "markdown",
   "source": [
    "### Задание 2.3\n",
    "Доказать, что матрица\n",
    "\n",
    "\\begin{pmatrix}\n",
    "-2 & 7 & -3\\\\ \n",
    "4 & -14 & 6\\\\ \n",
    "-3 & 7 & 13\n",
    "\\end{pmatrix}\n",
    "   \n",
    "вырожденная."
   ],
   "metadata": {
    "collapsed": false
   }
  },
  {
   "cell_type": "markdown",
   "source": [
    "### Решение 2.3\n",
    "Матрица вырожденная, так как ее определитель равен 0, у матрицы 0 и 1 строки линейно зависимы."
   ],
   "metadata": {
    "collapsed": false
   }
  },
  {
   "cell_type": "markdown",
   "source": [
    "### Задание 2.4\n",
    "Найти ранг матрицы:\n",
    "\n",
    "   а) $\\begin{pmatrix}\n",
    "1 & 2 & 3\\\\ \n",
    "1 & 1 & 1\\\\ \n",
    "2 & 3 & 4\n",
    "\\end{pmatrix};$\n",
    "\n",
    "   б) $\\begin{pmatrix}\n",
    "0 & 0 & 2 & 1\\\\ \n",
    "0 & 0 & 2 & 2\\\\ \n",
    "0 & 0 & 4 & 3\\\\ \n",
    "2 & 3 & 5 & 6\n",
    "\\end{pmatrix}.$"
   ],
   "metadata": {
    "collapsed": false
   }
  },
  {
   "cell_type": "markdown",
   "source": [
    "### Решение 2.4\n",
    "а) ранк равен 2 - 2я строка линейная комбинация 0 и 1  \n",
    "б) ранк 3. 3 строка - линейная комбинация 0 и 1"
   ],
   "metadata": {
    "collapsed": false
   }
  },
  {
   "cell_type": "code",
   "execution_count": 3,
   "outputs": [
    {
     "data": {
      "text/plain": "3"
     },
     "metadata": {},
     "output_type": "execute_result",
     "execution_count": 3
    }
   ],
   "source": [
    "A = np.array([[0,0,2,1],[0,0,2,2],[0,0,4,3],[2,3,5,6]])\n",
    "np.linalg.matrix_rank(A)"
   ],
   "metadata": {
    "collapsed": false,
    "pycharm": {
     "name": "#%%\n",
     "is_executing": false
    }
   }
  },
  {
   "cell_type": "code",
   "execution_count": null,
   "outputs": [],
   "source": [
    "\n"
   ],
   "metadata": {
    "collapsed": false,
    "pycharm": {
     "name": "#%%\n"
    }
   }
  }
 ],
 "metadata": {
  "kernelspec": {
   "display_name": "Python 3",
   "language": "python",
   "name": "python3"
  },
  "language_info": {
   "codemirror_mode": {
    "name": "ipython",
    "version": 2
   },
   "file_extension": ".py",
   "mimetype": "text/x-python",
   "name": "python",
   "nbconvert_exporter": "python",
   "pygments_lexer": "ipython2",
   "version": "2.7.6"
  },
  "pycharm": {
   "stem_cell": {
    "cell_type": "raw",
    "source": [],
    "metadata": {
     "collapsed": false
    }
   }
  }
 },
 "nbformat": 4,
 "nbformat_minor": 0
}