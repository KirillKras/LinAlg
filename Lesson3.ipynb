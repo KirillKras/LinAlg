{
 "cells": [
  {
   "cell_type": "markdown",
   "metadata": {
    "collapsed": true,
    "pycharm": {
     "name": "#%% md\n"
    }
   },
   "source": [
    "### Решение 1\n",
    "(-1 - l) * (6 - l) + 12 = 0  \n",
    "-6 + l -6l + $l^2$ + 12 = 0  \n",
    "$l^2$ - 5l - 6 = 0  \n",
    "собственные значения - $l_1$ = 2, $l_2$ = 3  \n",
    "\n",
    "-$x_1$ - 6$x_2$ = $x_1$  \n",
    "2$x_1$ + 6$x_2$ = $x_2$  \n",
    "\n",
    "$x_1$ = 0  \n",
    "$x_2$ = 0"
   ]
  },
  {
   "cell_type": "markdown",
   "source": [
    "### Решение 2\n",
    "-$x_1$ = $x_1$  \n",
    "-$x_2$ = $x_2$ \n",
    "система уравнений имеет бесконечное множество решений"
   ],
   "metadata": {
    "collapsed": false,
    "pycharm": {
     "name": "#%% md\n"
    }
   }
  },
  {
   "cell_type": "markdown",
   "source": [
    "###  Задание 3\n",
    "1 + 1 = l  \n",
    "-1 + 3 = l  \n",
    "l = 2 - является собственным вектором"
   ],
   "metadata": {
    "collapsed": false
   }
  },
  {
   "cell_type": "markdown",
   "source": [
    "### Задание 4\n",
    "-9 = 3l  \n",
    "9 = -3l  \n",
    "-12 = 4l  \n",
    "l = -3 - является  \n"
   ],
   "metadata": {
    "collapsed": false
   }
  }
 ],
 "metadata": {
  "kernelspec": {
   "display_name": "Python 3",
   "language": "python",
   "name": "python3"
  },
  "language_info": {
   "codemirror_mode": {
    "name": "ipython",
    "version": 2
   },
   "file_extension": ".py",
   "mimetype": "text/x-python",
   "name": "python",
   "nbconvert_exporter": "python",
   "pygments_lexer": "ipython2",
   "version": "2.7.6"
  },
  "pycharm": {
   "stem_cell": {
    "cell_type": "raw",
    "source": [],
    "metadata": {
     "collapsed": false
    }
   }
  }
 },
 "nbformat": 4,
 "nbformat_minor": 0
}