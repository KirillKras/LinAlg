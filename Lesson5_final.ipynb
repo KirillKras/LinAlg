{
 "cells": [
  {
   "cell_type": "code",
   "execution_count": 1,
   "metadata": {
    "collapsed": true,
    "pycharm": {
     "is_executing": false
    }
   },
   "outputs": [],
   "source": [
    "import numpy as np \n",
    "from sklearn import datasets\n",
    "import pandas as pd"
   ]
  },
  {
   "cell_type": "markdown",
   "source": [
    "Получаем данные ирис"
   ],
   "metadata": {
    "collapsed": false,
    "pycharm": {
     "name": "#%% md\n"
    }
   }
  },
  {
   "cell_type": "code",
   "execution_count": 17,
   "outputs": [],
   "source": [
    "iris = datasets.load_iris()\n",
    "df = pd.DataFrame(iris.data, columns=[f'Param{i}' for i in range(1,5)])"
   ],
   "metadata": {
    "collapsed": false,
    "pycharm": {
     "name": "#%%\n",
     "is_executing": false
    }
   }
  },
  {
   "cell_type": "code",
   "execution_count": 18,
   "outputs": [
    {
     "data": {
      "text/plain": "           Param1      Param2      Param3      Param4\ncount  150.000000  150.000000  150.000000  150.000000\nmean     5.843333    3.057333    3.758000    1.199333\nstd      0.828066    0.435866    1.765298    0.762238\nmin      4.300000    2.000000    1.000000    0.100000\n25%      5.100000    2.800000    1.600000    0.300000\n50%      5.800000    3.000000    4.350000    1.300000\n75%      6.400000    3.300000    5.100000    1.800000\nmax      7.900000    4.400000    6.900000    2.500000",
      "text/html": "<div>\n<style scoped>\n    .dataframe tbody tr th:only-of-type {\n        vertical-align: middle;\n    }\n\n    .dataframe tbody tr th {\n        vertical-align: top;\n    }\n\n    .dataframe thead th {\n        text-align: right;\n    }\n</style>\n<table border=\"1\" class=\"dataframe\">\n  <thead>\n    <tr style=\"text-align: right;\">\n      <th></th>\n      <th>Param1</th>\n      <th>Param2</th>\n      <th>Param3</th>\n      <th>Param4</th>\n    </tr>\n  </thead>\n  <tbody>\n    <tr>\n      <th>count</th>\n      <td>150.000000</td>\n      <td>150.000000</td>\n      <td>150.000000</td>\n      <td>150.000000</td>\n    </tr>\n    <tr>\n      <th>mean</th>\n      <td>5.843333</td>\n      <td>3.057333</td>\n      <td>3.758000</td>\n      <td>1.199333</td>\n    </tr>\n    <tr>\n      <th>std</th>\n      <td>0.828066</td>\n      <td>0.435866</td>\n      <td>1.765298</td>\n      <td>0.762238</td>\n    </tr>\n    <tr>\n      <th>min</th>\n      <td>4.300000</td>\n      <td>2.000000</td>\n      <td>1.000000</td>\n      <td>0.100000</td>\n    </tr>\n    <tr>\n      <th>25%</th>\n      <td>5.100000</td>\n      <td>2.800000</td>\n      <td>1.600000</td>\n      <td>0.300000</td>\n    </tr>\n    <tr>\n      <th>50%</th>\n      <td>5.800000</td>\n      <td>3.000000</td>\n      <td>4.350000</td>\n      <td>1.300000</td>\n    </tr>\n    <tr>\n      <th>75%</th>\n      <td>6.400000</td>\n      <td>3.300000</td>\n      <td>5.100000</td>\n      <td>1.800000</td>\n    </tr>\n    <tr>\n      <th>max</th>\n      <td>7.900000</td>\n      <td>4.400000</td>\n      <td>6.900000</td>\n      <td>2.500000</td>\n    </tr>\n  </tbody>\n</table>\n</div>"
     },
     "metadata": {},
     "output_type": "execute_result",
     "execution_count": 18
    }
   ],
   "source": [
    "df.describe()"
   ],
   "metadata": {
    "collapsed": false,
    "pycharm": {
     "name": "#%%\n",
     "is_executing": false
    }
   }
  },
  {
   "cell_type": "code",
   "execution_count": 27,
   "outputs": [
    {
     "data": {
      "text/plain": "array([[-6.16168450e-02,  1.29611444e-01,  2.13859674e-03,\n         1.63819140e-03],\n       [-5.80709402e-02,  1.11019776e-01,  7.06723871e-02,\n         5.17569646e-02],\n       [-5.67630474e-02,  1.17966465e-01,  4.34254909e-03,\n         9.55702427e-03],\n       [-5.66534426e-02,  1.05308145e-01,  5.92467197e-03,\n        -4.16438911e-02],\n       [-6.12302023e-02,  1.31089790e-01, -3.18810953e-02,\n        -3.22148124e-02],\n       [-6.75031684e-02,  1.30884835e-01, -6.85371918e-02,\n        -1.13642477e-02],\n       [-5.74820774e-02,  1.16598182e-01, -6.64136685e-02,\n        -2.67433923e-02],\n       [-6.09726328e-02,  1.20943120e-01,  5.43026565e-03,\n        -2.40566566e-02],\n       [-5.37611959e-02,  9.99414853e-02,  1.76366479e-02,\n        -1.65153852e-02],\n       [-5.88266594e-02,  1.12043088e-01,  6.49689136e-02,\n        -3.04719804e-02],\n       [-6.52918230e-02,  1.36578094e-01,  4.93585934e-03,\n        -6.46942221e-03],\n       [-5.99417779e-02,  1.13753142e-01, -2.52977575e-02,\n        -8.36045085e-02],\n       [-5.71132323e-02,  1.11354756e-01,  7.16796746e-02,\n        -5.15469382e-03],\n       [-5.15957540e-02,  1.15324791e-01,  4.26212003e-03,\n        -1.37409532e-02],\n       [-6.80071908e-02,  1.64183057e-01,  9.57009112e-03,\n         8.76360142e-02],\n       [-7.07625894e-02,  1.59056485e-01, -1.19142652e-01,\n         6.55000606e-03],\n       [-6.53647385e-02,  1.46844820e-01, -6.16990077e-02,\n         9.06600216e-02],\n       [-6.17918218e-02,  1.27676473e-01, -1.33779293e-02,\n         4.15289575e-02],\n       [-6.92802967e-02,  1.34541441e-01,  1.00175034e-02,\n         1.66397745e-02],\n       [-6.35146947e-02,  1.32921488e-01, -7.36188358e-02,\n        -3.44734444e-02],\n       [-6.51727724e-02,  1.19363091e-01,  6.00481277e-02,\n        -6.98522223e-03],\n       [-6.32935829e-02,  1.27908181e-01, -6.96249084e-02,\n         2.22494332e-02],\n       [-5.59608478e-02,  1.40649812e-01, -8.30798653e-02,\n         1.72588781e-03],\n       [-6.29534207e-02,  1.05679869e-01, -1.05187125e-02,\n         7.84565109e-02],\n       [-6.15456003e-02,  1.01783154e-01, -3.04263956e-02,\n        -1.60122710e-01],\n       [-5.99228863e-02,  1.04639775e-01,  8.17625336e-02,\n         1.77657222e-02],\n       [-6.18571938e-02,  1.13083182e-01, -2.73123325e-02,\n         3.02188083e-02],\n       [-6.29341837e-02,  1.27221439e-01,  1.49382892e-02,\n        -6.84698366e-03],\n       [-6.20034877e-02,  1.28133097e-01,  3.61582888e-02,\n         3.54911952e-02],\n       [-5.83668698e-02,  1.05996477e-01, -7.86089013e-04,\n        -6.69611777e-02],\n       [-5.87535125e-02,  1.04518131e-01,  3.32336030e-02,\n        -3.31081739e-02],\n       [-6.44535110e-02,  1.23473141e-01,  3.24341677e-02,\n         1.23808445e-01],\n       [-6.51357378e-02,  1.47626432e-01, -8.66079057e-02,\n        -1.47730419e-01],\n       [-6.75203891e-02,  1.57559767e-01, -7.63976236e-02,\n        -4.81030203e-02],\n       [-5.90016362e-02,  1.10108117e-01,  4.94523876e-02,\n         9.41878571e-03],\n       [-5.85766335e-02,  1.26756434e-01,  4.95798107e-02,\n         8.61257684e-02],\n       [-6.42131623e-02,  1.40001403e-01,  6.18850969e-02,\n         9.52278278e-02],\n       [-6.02724944e-02,  1.31424770e-01, -3.08738078e-02,\n        -8.91264708e-02],\n       [-5.36226769e-02,  1.07009819e-01, -1.64259548e-04,\n        -7.84142944e-03],\n       [-6.17553640e-02,  1.22543111e-01,  1.99395042e-02,\n        -7.03576438e-03],\n       [-6.04744831e-02,  1.30066478e-01, -2.61776218e-02,\n         5.00141326e-02],\n       [-5.18077654e-02,  8.51264784e-02,  1.35401627e-01,\n         1.66895010e-01],\n       [-5.44148539e-02,  1.13166493e-01, -3.91851665e-02,\n        -4.15056525e-02],\n       [-6.26032358e-02,  1.12291578e-01, -7.78558381e-02,\n         9.31682290e-02],\n       [-6.58281013e-02,  1.15026533e-01, -9.59735460e-02,\n        -9.66069476e-02],\n       [-5.74631858e-02,  1.07484815e-01,  4.06466225e-02,\n         7.46268384e-02],\n       [-6.38743254e-02,  1.30866463e-01, -5.98118558e-02,\n        -9.98702779e-02],\n       [-5.65149237e-02,  1.12376478e-01, -1.18762355e-02,\n        -3.29699353e-02],\n       [-6.45090918e-02,  1.34978104e-01, -9.57337920e-03,\n        -2.34903145e-02],\n       [-6.00419369e-02,  1.21854779e-01,  2.66502652e-02,\n         1.82815222e-02],\n       [-9.50422391e-02, -4.11326398e-03,  9.37321578e-02,\n         1.25204510e-02],\n       [-8.94516138e-02, -7.66818721e-03, -5.42070742e-03,\n         1.29799817e-03],\n       [-9.51076111e-02, -1.87065550e-02,  7.97977546e-02,\n         1.21030175e-03],\n       [-7.58192461e-02, -2.59532167e-02,  7.91710094e-02,\n         4.73477760e-02],\n       [-8.91845985e-02, -2.23715412e-02,  8.54207991e-02,\n         6.01412693e-02],\n       [-8.20381882e-02, -2.73115299e-02,  2.08948886e-03,\n        -1.30301334e-01],\n       [-9.03091628e-02, -1.61048038e-02, -5.83760176e-02,\n        -4.36763742e-02],\n       [-6.72517650e-02,  1.26006092e-03,  3.11215251e-02,\n        -1.27395163e-02],\n       [-9.00134647e-02, -1.38232718e-02,  1.11452636e-01,\n        -1.94514823e-02],\n       [-7.46957758e-02, -1.63848150e-02, -5.62055002e-02,\n        -5.64651352e-03],\n       [-6.75193572e-02, -1.74332892e-02,  1.20253486e-01,\n         2.05976875e-02],\n       [-8.31419586e-02, -9.85482711e-03, -3.38173550e-02,\n         2.63759619e-02],\n       [-7.88118832e-02, -1.52266876e-02,  2.17777234e-01,\n         2.96120505e-02],\n       [-8.68093930e-02, -2.77481926e-02,  2.16803714e-02,\n        -9.01712448e-02],\n       [-7.68400783e-02,  1.00767816e-02, -1.65442889e-02,\n         6.54002683e-02],\n       [-9.06941347e-02, -2.15851353e-05,  7.48435338e-02,\n         5.48080877e-02],\n       [-8.23975875e-02, -2.66247878e-02, -8.24737088e-02,\n        -1.01204917e-01],\n       [-7.97614708e-02, -7.02497949e-03,  8.94969432e-02,\n        -1.14096359e-01],\n       [-8.39252666e-02, -4.16515405e-02,  1.60665350e-01,\n         1.35577329e-01],\n       [-7.65095933e-02, -1.03366139e-02,  8.74019391e-02,\n        -2.35710198e-02],\n       [-8.76667106e-02, -3.34430418e-02, -1.29645116e-01,\n        -4.06523667e-02],\n       [-8.24960756e-02, -9.61586108e-04,  6.86741732e-02,\n         6.53125719e-02],\n       [-8.80346931e-02, -4.67765227e-02,  1.09805044e-01,\n         7.76174024e-05],\n       [-8.60633510e-02, -2.69565882e-02,  7.22238770e-02,\n        -1.53120665e-01],\n       [-8.68441800e-02, -5.05326495e-03,  8.75627972e-02,\n         2.30249352e-02],\n       [-8.95153150e-02, -4.69991309e-03,  7.98447487e-02,\n         5.46193070e-02],\n       [-9.24270302e-02, -2.36165904e-02,  1.41045949e-01,\n         2.03010453e-02],\n       [-9.40306212e-02, -3.28448113e-02,  3.75471329e-02,\n         3.82760937e-02],\n       [-8.51324237e-02, -2.33031619e-02, -4.92630110e-03,\n        -1.62892363e-02],\n       [-7.53750063e-02,  1.22366693e-02,  1.04755434e-01,\n         3.87512641e-02],\n       [-7.47961661e-02, -1.10249457e-02,  9.41127001e-02,\n         1.74626684e-03],\n       [-7.40865819e-02, -5.09997886e-03,  1.11338772e-01,\n        -1.26384320e-02],\n       [-7.90422093e-02, -2.91492876e-03,  6.18829831e-02,\n         1.66973078e-02],\n       [-8.77228682e-02, -5.53347837e-02,  8.32080363e-03,\n        -9.57706510e-02],\n       [-8.08321251e-02, -2.98247694e-02, -1.11492186e-01,\n        -1.35246701e-01],\n       [-8.72878429e-02, -9.84644677e-03, -1.17995095e-01,\n        -6.05590278e-02],\n       [-9.24729338e-02, -1.39265443e-02,  5.41983696e-02,\n         1.81806519e-02],\n       [-8.42195253e-02, -2.91132749e-02,  1.88406734e-01,\n         8.14906448e-02],\n       [-7.99092041e-02, -6.79486183e-03, -4.46024725e-02,\n        -7.89621798e-02],\n       [-7.66114230e-02, -1.97965423e-02,  4.01501024e-02,\n         1.36835529e-02],\n       [-7.89709646e-02, -3.07432189e-02,  2.93179909e-02,\n        -1.45063594e-01],\n       [-8.66708741e-02, -2.06798593e-02,  3.87946396e-03,\n        -8.14972890e-02],\n       [-7.91807283e-02, -9.98326205e-03,  7.96838906e-02,\n         8.02335204e-03],\n       [-6.76384077e-02, -2.18285462e-04,  6.51412171e-02,\n         2.11134875e-02],\n       [-7.92555461e-02, -2.00198695e-02,  1.22193419e-02,\n        -5.39719125e-02],\n       [-8.10515660e-02, -7.24989641e-03, -1.62862540e-02,\n        -1.27338121e-01],\n       [-8.08304543e-02, -1.22632043e-02, -1.22923265e-02,\n        -7.06152434e-02],\n       [-8.52787176e-02, -8.25324653e-03,  5.85443201e-02,\n        -1.10168494e-02],\n       [-6.77844702e-02,  1.75733973e-02,  3.02416607e-02,\n         1.20879125e-01],\n       [-7.98997583e-02, -1.13515454e-02,  8.92767300e-03,\n        -2.82770645e-02],\n       [-9.88338505e-02, -8.53894903e-02, -2.20248850e-01,\n        -1.62383542e-02],\n       [-8.66823361e-02, -6.43396776e-02, -6.72472516e-02,\n        -1.01401371e-02],\n       [-1.02672920e-01, -7.00946964e-02,  1.81320686e-02,\n         3.63681214e-02],\n       [-9.38862295e-02, -6.81980592e-02, -2.67531700e-02,\n        -1.26121002e-01],\n       [-9.76169023e-02, -7.76396157e-02, -8.27303427e-02,\n        -3.60398773e-04],\n       [-1.10328828e-01, -9.00247153e-02,  7.87114391e-02,\n        -5.70698885e-02],\n       [-7.52879803e-02, -5.70863507e-02, -1.17519163e-01,\n        -5.64090728e-02],\n       [-1.05455794e-01, -8.01281242e-02,  1.06372393e-01,\n        -1.34454550e-01],\n       [-9.65020152e-02, -8.20914370e-02,  1.05906506e-01,\n        -4.17211210e-02],\n       [-1.07601304e-01, -6.57445578e-02, -1.49906610e-01,\n         6.09472743e-02],\n       [-9.43168735e-02, -3.96830270e-02, -7.87513753e-02,\n         6.47363171e-02],\n       [-9.24479381e-02, -6.27197251e-02,  1.63890876e-02,\n         4.09730818e-02],\n       [-9.81862967e-02, -5.89346842e-02, -1.85574629e-02,\n         8.73297139e-02],\n       [-8.47477972e-02, -7.00413173e-02, -5.65425632e-02,\n         7.19000271e-02],\n       [-8.79533083e-02, -7.09361942e-02, -1.64340335e-01,\n         1.72481582e-01],\n       [-9.51282875e-02, -5.50679223e-02, -1.43229284e-01,\n         1.16375589e-01],\n       [-9.53131729e-02, -5.79297443e-02, -1.55356004e-02,\n        -8.34052613e-02],\n       [-1.14989851e-01, -6.97229940e-02, -8.00890224e-02,\n        -1.60321190e-01],\n       [-1.11480981e-01, -1.16578003e-01,  1.35100801e-01,\n         3.05427802e-02],\n       [-8.50328416e-02, -6.48015027e-02,  1.23099143e-01,\n        -2.59947921e-02],\n       [-1.01180373e-01, -6.30279529e-02, -7.75212755e-02,\n         9.94557807e-02],\n       [-8.46187241e-02, -5.84163005e-02, -1.27873616e-01,\n         2.98888676e-02],\n       [-1.10679013e-01, -9.66364242e-02,  1.46048565e-01,\n        -7.17816066e-02],\n       [-8.93518003e-02, -4.64247606e-02,  2.42345592e-02,\n         8.60856927e-02],\n       [-9.96610459e-02, -5.92796557e-02, -9.50171540e-02,\n        -3.11996477e-02],\n       [-1.04257505e-01, -6.05231151e-02,  3.84604323e-02,\n        -1.25453575e-01],\n       [-8.84305502e-02, -4.09564181e-02, -8.07558677e-03,\n         7.77387562e-02],\n       [-8.89746034e-02, -4.03897307e-02, -6.33152783e-02,\n         1.54757355e-03],\n       [-9.47978024e-02, -7.54813178e-02, -3.92830561e-02,\n         2.74043006e-02],\n       [-1.02046160e-01, -5.48298557e-02,  1.11933483e-01,\n        -1.20558750e-01],\n       [-1.04948198e-01, -7.55614491e-02,  1.28294651e-01,\n        -9.69864564e-03],\n       [-1.14601538e-01, -5.06830826e-02, -1.49088551e-02,\n        -1.29542736e-01],\n       [-9.49727792e-02, -7.74162886e-02, -5.47995822e-02,\n         6.72950667e-02],\n       [-9.02921735e-02, -4.55215034e-02,  4.78545918e-02,\n        -1.01430852e-01],\n       [-9.04325947e-02, -7.28931692e-02,  6.48258176e-02,\n        -2.69229516e-01],\n       [-1.08788476e-01, -7.23446854e-02,  7.07353557e-02,\n         1.67262873e-01],\n       [-9.69165324e-02, -6.44161979e-02, -2.17404594e-01,\n         2.90630374e-02],\n       [-9.49265302e-02, -5.64513979e-02, -4.95552924e-02,\n        -1.17258265e-01],\n       [-8.76572648e-02, -3.79997254e-02, -7.61149708e-02,\n         1.00327486e-02],\n       [-9.88305089e-02, -5.02663601e-02, -2.18491318e-02,\n         1.13024562e-01],\n       [-9.88591917e-02, -6.72512462e-02, -1.00836279e-01,\n         1.47642941e-01],\n       [-9.75766400e-02, -4.21663133e-02, -4.77535458e-02,\n         2.69324296e-01],\n       [-8.66823361e-02, -6.43396776e-02, -6.72472516e-02,\n        -1.01401371e-02],\n       [-1.01466857e-01, -7.26079359e-02, -9.54496061e-02,\n         3.14227537e-02],\n       [-1.00360953e-01, -6.70195388e-02, -1.57083258e-01,\n         1.28363417e-01],\n       [-9.61496966e-02, -5.24346281e-02, -5.89711154e-02,\n         2.26608556e-01],\n       [-8.92692075e-02, -5.85064019e-02,  4.60293941e-02,\n         1.34134615e-01],\n       [-9.40593040e-02, -4.98296974e-02, -4.14400144e-02,\n         7.28944729e-02],\n       [-9.48896096e-02, -5.61012256e-02, -2.12978214e-01,\n         2.31635137e-02],\n       [-8.84783560e-02, -5.15697045e-02, -9.57528475e-02,\n        -8.35063456e-02]])"
     },
     "metadata": {},
     "output_type": "execute_result",
     "execution_count": 27
    }
   ],
   "source": [
    "u, s, v = np.linalg.svd(df, full_matrices=False)\n",
    "u"
   ],
   "metadata": {
    "collapsed": false,
    "pycharm": {
     "name": "#%%\n",
     "is_executing": false
    }
   }
  },
  {
   "cell_type": "code",
   "execution_count": 28,
   "outputs": [
    {
     "data": {
      "text/plain": "array([95.95991387, 17.76103366,  3.46093093,  1.88482631])"
     },
     "metadata": {},
     "output_type": "execute_result",
     "execution_count": 28
    }
   ],
   "source": [
    "s"
   ],
   "metadata": {
    "collapsed": false,
    "pycharm": {
     "name": "#%%\n",
     "is_executing": false
    }
   }
  },
  {
   "cell_type": "code",
   "execution_count": 29,
   "outputs": [
    {
     "data": {
      "text/plain": "array([[-0.75110816, -0.38008617, -0.51300886, -0.16790754],\n       [ 0.2841749 ,  0.5467445 , -0.70866455, -0.34367081],\n       [ 0.50215472, -0.67524332, -0.05916621, -0.53701625],\n       [ 0.32081425, -0.31725607, -0.48074507,  0.75187165]])"
     },
     "metadata": {},
     "output_type": "execute_result",
     "execution_count": 29
    }
   ],
   "source": [
    "v"
   ],
   "metadata": {
    "collapsed": false,
    "pycharm": {
     "name": "#%%\n",
     "is_executing": false
    }
   }
  },
  {
   "cell_type": "markdown",
   "source": [
    "Видим, что можно избавиться от 2 признаков. Зануляем значения "
   ],
   "metadata": {
    "collapsed": false,
    "pycharm": {
     "name": "#%% md\n"
    }
   }
  },
  {
   "cell_type": "code",
   "execution_count": 41,
   "outputs": [],
   "source": [
    "s[2] = s[3] = 0\n",
    "x1 = u.dot(np.eye(4)*s).dot(v)"
   ],
   "metadata": {
    "collapsed": false,
    "pycharm": {
     "name": "#%%\n",
     "is_executing": false
    }
   }
  },
  {
   "cell_type": "markdown",
   "source": [
    "Находим базисы"
   ],
   "metadata": {
    "collapsed": false,
    "pycharm": {
     "name": "#%% md\n",
     "is_executing": false
    }
   }
  },
  {
   "cell_type": "code",
   "execution_count": 43,
   "outputs": [
    {
     "data": {
      "text/plain": "array([[ 0.68222377, -0.0208085 ,  1.28603382,  0.52241054],\n       [-0.0208085 ,  0.13721124, -0.34521301, -0.15395272],\n       [ 1.28603382, -0.34521301,  3.10979132,  1.2939947 ],\n       [ 0.52241054, -0.15395272,  1.2939947 ,  0.53951014]])"
     },
     "metadata": {},
     "output_type": "execute_result",
     "execution_count": 43
    }
   ],
   "source": [
    "cov1 = np.cov(x1.T)\n",
    "cov1"
   ],
   "metadata": {
    "collapsed": false,
    "pycharm": {
     "name": "#%%\n",
     "is_executing": false
    }
   }
  },
  {
   "cell_type": "code",
   "execution_count": 49,
   "outputs": [
    {
     "name": "stdout",
     "text": [
      "[ 4.22815554e+00  2.40580934e-01 -4.98584854e-17  9.09092212e-17]\n",
      "[[-0.36356257  0.71605943  0.59588686  0.31909374]\n",
      " [ 0.08751286  0.66010344 -0.73983321 -0.31494318]\n",
      " [-0.85655868 -0.17801903 -0.30868353 -0.48053975]\n",
      " [-0.35562761 -0.1408246  -0.04775085  0.7537052 ]]\n"
     ],
     "output_type": "stream"
    }
   ],
   "source": [
    "sval, svec = np.linalg.eig(cov1)\n",
    "print(sval)\n",
    "print(svec)"
   ],
   "metadata": {
    "collapsed": false,
    "pycharm": {
     "name": "#%%\n",
     "is_executing": false
    }
   }
  },
  {
   "cell_type": "markdown",
   "source": [
    "SVD разложение ковариационной матрицы"
   ],
   "metadata": {
    "collapsed": false,
    "pycharm": {
     "name": "#%% md\n"
    }
   }
  },
  {
   "cell_type": "code",
   "execution_count": 50,
   "outputs": [],
   "source": [
    "u, s, v = np.linalg.svd(cov1)"
   ],
   "metadata": {
    "collapsed": false,
    "pycharm": {
     "name": "#%%\n",
     "is_executing": false
    }
   }
  },
  {
   "cell_type": "code",
   "execution_count": 51,
   "outputs": [
    {
     "data": {
      "text/plain": "array([[-0.36356257, -0.71605943,  0.18299245, -0.56709339],\n       [ 0.08751286, -0.66010344, -0.13565893,  0.73362225],\n       [-0.85655868,  0.17801903, -0.45002845,  0.17913919],\n       [-0.35562761,  0.1408246 ,  0.86347253,  0.32880485]])"
     },
     "metadata": {},
     "output_type": "execute_result",
     "execution_count": 51
    }
   ],
   "source": [
    "u"
   ],
   "metadata": {
    "collapsed": false,
    "pycharm": {
     "name": "#%%\n",
     "is_executing": false
    }
   }
  },
  {
   "cell_type": "code",
   "execution_count": 53,
   "outputs": [
    {
     "data": {
      "text/plain": "array([[-0.36356257, -0.71605943,  0.51272813, -0.30362974],\n       [ 0.08751286, -0.66010344, -0.58757518,  0.45973945],\n       [-0.85655868,  0.17801903, -0.4558026 , -0.16389157],\n       [-0.35562761,  0.1408246 ,  0.42907955,  0.81828368]])"
     },
     "metadata": {},
     "output_type": "execute_result",
     "execution_count": 53
    }
   ],
   "source": [
    "v.T"
   ],
   "metadata": {
    "collapsed": false,
    "pycharm": {
     "name": "#%%\n",
     "is_executing": false
    }
   }
  },
  {
   "cell_type": "code",
   "execution_count": 62,
   "outputs": [
    {
     "data": {
      "text/plain": "array([[-2.81818175, -5.68487355],\n       [-2.78922566, -5.21160995],\n       [-2.61335471, -5.21822065],\n       [-2.75706148, -5.04500056],\n       [-2.7730742 , -5.67927795],\n       [-3.2203385 , -6.08216213],\n       [-2.68071451, -5.24675103],\n       [-2.87623264, -5.52945536],\n       [-2.61619567, -4.78756989],\n       [-2.83056748, -5.27390085],\n       [-2.99540381, -6.01391017],\n       [-2.889176  , -5.36844157],\n       [-2.71730665, -5.15408647],\n       [-2.27855776, -4.84946246],\n       [-2.85760738, -6.55177068],\n       [-3.1143391 , -6.66263548],\n       [-2.87771503, -6.15336974],\n       [-2.85374451, -5.67079109],\n       [-3.30259579, -6.24505207],\n       [-2.91314652, -5.85102022],\n       [-3.19296941, -5.78027533],\n       [-2.95746056, -5.77092742],\n       [-2.28502571, -5.4640618 ],\n       [-3.1993402 , -5.45719978],\n       [-3.1461436 , -5.31503586],\n       [-2.99689365, -5.24761209],\n       [-3.03301403, -5.48348854],\n       [-2.94019387, -5.73867759],\n       [-2.86328929, -5.69046915],\n       [-2.87032231, -5.16481494],\n       [-2.91542986, -5.17041054],\n       [-3.09278319, -5.78771422],\n       [-2.8521234 , -6.14882212],\n       [-2.90234777, -6.43336973],\n       [-2.86613024, -5.25981839],\n       [-2.63676761, -5.45084039],\n       [-2.87795091, -5.98909923],\n       [-2.70115519, -5.62175447],\n       [-2.52178851, -4.87138214],\n       [-2.9125889 , -5.60106131],\n       [-2.73173238, -5.61698705],\n       [-2.65496653, -4.46683321],\n       [-2.50428594, -5.00340283],\n       [-3.09538827, -5.52133396],\n       [-3.29133275, -5.76573015],\n       [-2.78843217, -5.12592155],\n       [-2.96323962, -5.84730078],\n       [-2.66265432, -5.12881281],\n       [-2.95904756, -5.94230422],\n       [-2.79932806, -5.48124692],\n       [-6.78860124, -6.0909031 ],\n       [-6.43471473, -5.68278879],\n       [-6.96787076, -5.90360055],\n       [-5.68686513, -4.56141665],\n       [-6.59173199, -5.47255146],\n       [-6.14410055, -4.94567074],\n       [-6.59648168, -5.62750693],\n       [-4.75369695, -4.36465204],\n       [-6.54821144, -5.63833266],\n       [-5.49269811, -4.61435964],\n       [-4.99637008, -4.1366128 ],\n       [-6.01346841, -5.2461441 ],\n       [-5.77070942, -4.8956834 ],\n       [-6.48764879, -5.24841859],\n       [-5.3280902 , -5.10029227],\n       [-6.43131615, -5.86348064],\n       [-6.16136724, -4.97792056],\n       [-5.73989634, -5.06472133],\n       [-6.44951507, -4.87947347],\n       [-5.54893742, -4.8110101 ],\n       [-6.61658933, -5.22910599],\n       [-5.86124624, -5.32110403],\n       [-6.80224094, -5.07790283],\n       [-6.42527455, -5.21057316],\n       [-6.21853133, -5.54852649],\n       [-6.40371118, -5.72586435],\n       [-6.83654974, -5.66584794],\n       [-7.06069093, -5.6484115 ],\n       [-6.31554356, -5.19833399],\n       [-5.19835616, -5.03391646],\n       [-5.43567659, -4.69119572],\n       [-5.31445796, -4.72308008],\n       [-5.63971013, -5.07216022],\n       [-6.88254409, -4.94541942],\n       [-6.08865473, -4.83470867],\n       [-6.30734989, -5.51430325],\n       [-6.72384652, -5.79599247],\n       [-6.32033865, -5.06305658],\n       [-5.74761825, -5.07729309],\n       [-5.66936256, -4.69343734],\n       [-5.96767198, -4.70232253],\n       [-6.39324163, -5.33223083],\n       [-5.73411728, -4.98834797],\n       [-4.79880449, -4.37024764],\n       [-5.85952798, -4.86146016],\n       [-5.83406762, -5.14517959],\n       [-5.87838166, -5.06508679],\n       [-6.14581881, -5.4053146 ],\n       [-4.59625333, -4.61319752],\n       [-5.80147708, -5.01687835],\n       [-8.0300728 , -5.26934004],\n       [-6.91651986, -4.75996015],\n       [-8.1192698 , -5.7182883 ],\n       [-7.47351515, -5.1750835 ],\n       [-7.85103916, -5.29237208],\n       [-8.90064216, -5.95170469],\n       [-6.0217554 , -4.11846232],\n       [-8.43666879, -5.76652961],\n       [-7.82525706, -5.16186209],\n       [-8.41668112, -6.09402265],\n       [-7.16281999, -5.57717101],\n       [-7.30596914, -5.15399201],\n       [-7.66757756, -5.57467808],\n       [-6.84757307, -4.56005297],\n       [-7.08558238, -4.7555582 ],\n       [-7.40446375, -5.42771388],\n       [-7.45182051, -5.40210763],\n       [-8.98820676, -6.51950902],\n       [-9.30009668, -5.67769862],\n       [-6.80508189, -4.64725207],\n       [-7.92886851, -5.71453598],\n       [-6.69930709, -4.70427996],\n       [-9.00459409, -5.8875705 ],\n       [-6.89142665, -5.16767614],\n       [-7.77627918, -5.66549936],\n       [-8.11709107, -5.9463604 ],\n       [-6.76066324, -5.17988244],\n       [-6.79246028, -5.22249528],\n       [-7.62531098, -5.13843172],\n       [-7.89215639, -5.87810844],\n       [-8.34602736, -5.79364655],\n       [-8.73282615, -6.74429153],\n       [-7.66087374, -5.12434926],\n       [-6.94729882, -5.24033005],\n       [-7.28480545, -4.89017042],\n       [-8.5798446 , -6.08415523],\n       [-7.64313529, -5.42064046],\n       [-7.40671297, -5.39651203],\n       [-6.67044816, -5.16869124],\n       [-7.60952667, -5.73009627],\n       [-7.81481417, -5.5090332 ],\n       [-7.42368459, -5.75533706],\n       [-6.91651986, -4.75996015],\n       [-8.06382398, -5.60732623],\n       [-7.91853023, -5.60916952],\n       [-7.44537923, -5.52831293],\n       [-7.03014785, -5.00377109],\n       [-7.26597843, -5.42734842],\n       [-7.39990454, -5.39872078],\n       [-6.8910595 , -5.04367959]])"
     },
     "metadata": {},
     "output_type": "execute_result",
     "execution_count": 62
    }
   ],
   "source": [
    "x_new = x1.dot(v.T)\n",
    "x_new = x_new[:,:2]"
   ],
   "metadata": {
    "collapsed": false,
    "pycharm": {
     "name": "#%%\n",
     "is_executing": false
    }
   }
  },
  {
   "cell_type": "code",
   "execution_count": 63,
   "outputs": [],
   "source": [
    "import matplotlib.pyplot as plt"
   ],
   "metadata": {
    "collapsed": false,
    "pycharm": {
     "name": "#%%\n",
     "is_executing": false
    }
   }
  },
  {
   "cell_type": "code",
   "execution_count": 65,
   "outputs": [
    {
     "data": {
      "text/plain": "<matplotlib.collections.PathCollection at 0x122faa2e0>"
     },
     "metadata": {},
     "output_type": "execute_result",
     "execution_count": 65
    },
    {
     "data": {
      "text/plain": "<Figure size 432x288 with 1 Axes>",
      "image/png": "[encoded data removed]"
     },
     "metadata": {
      "needs_background": "light"
     },
     "output_type": "display_data"
    }
   ],
   "source": [
    "plt.scatter(x_new[0], x_new[1])"
   ],
   "metadata": {
    "collapsed": false,
    "pycharm": {
     "name": "#%%\n",
     "is_executing": false
    }
   }
  },
  {
   "cell_type": "code",
   "execution_count": null,
   "outputs": [],
   "source": [
    "\n"
   ],
   "metadata": {
    "collapsed": false,
    "pycharm": {
     "name": "#%%\n"
    }
   }
  }
 ],
 "metadata": {
  "kernelspec": {
   "display_name": "Python 3",
   "language": "python",
   "name": "python3"
  },
  "language_info": {
   "codemirror_mode": {
    "name": "ipython",
    "version": 2
   },
   "file_extension": ".py",
   "mimetype": "text/x-python",
   "name": "python",
   "nbconvert_exporter": "python",
   "pygments_lexer": "ipython2",
   "version": "2.7.6"
  },
  "pycharm": {
   "stem_cell": {
    "cell_type": "raw",
    "source": [],
    "metadata": {
     "collapsed": false
    }
   }
  }
 },
 "nbformat": 4,
 "nbformat_minor": 0
}