{
 "cells": [
  {
   "cell_type": "markdown",
   "metadata": {
    "collapsed": true,
    "pycharm": {
     "name": "#%% md\n"
    }
   },
   "source": [
    "### Задание 1.1\n",
    "\\begin{cases}\n",
    "x_{1}+x_{2}-x_{3}-2x_{4}=0, \\\\\n",
    "2x_{1}+x_{2}-x_{3}+x_{4}=-2, \\\\\n",
    "x_{1}+x_{2}-3x_{3}+x_{4}=4.\n",
    "\\end{cases} \n",
    "\n",
    "\\begin{pmatrix}\n",
    "\\left.\\begin{matrix}\n",
    "1 & 1 & -1 & -2\\\\ \n",
    "2 & 1 & -1 & 1\\\\ \n",
    "1 & 1 & -3 & 1\n",
    "\\end{matrix}\\right|\n",
    "\\begin{matrix}\n",
    "0\\\\ \n",
    "-2\\\\\n",
    "4\n",
    "\\end{matrix}\n",
    "\\end{pmatrix} = \n",
    "\\begin{pmatrix}\n",
    "\\left.\\begin{matrix}\n",
    "1 & 1 & -1 & -2\\\\ \n",
    "2 & 1 & -1 & 1\\\\ \n",
    "0 & 0 & -2 & 3\n",
    "\\end{matrix}\\right|\n",
    "\\begin{matrix}\n",
    "0\\\\ \n",
    "-2\\\\\n",
    "4\n",
    "\\end{matrix}\n",
    "\\end{pmatrix} = \n",
    "\\begin{pmatrix}\n",
    "\\left.\\begin{matrix}\n",
    "1 & 1 & -1 & -2\\\\ \n",
    "0 & -1 & 1 & 5\\\\ \n",
    "0 & 0 & -2 & 3\n",
    "\\end{matrix}\\right|\n",
    "\\begin{matrix}\n",
    "0\\\\ \n",
    "-2\\\\\n",
    "4\n",
    "\\end{matrix}\n",
    "\\end{pmatrix}\n",
    "\n",
    "$x_{4}$ = c  \n",
    "$x_{3}$ = 1.5c - 2  \n",
    "$x_{2}$ = 1.5c - 2 + 5c + 2 = 6.5c  \n",
    "$x_{1}$ = 3c + 1.5c - 2 - 6.5c = -2 - 2c\n"
   ]
  },
  {
   "cell_type": "markdown",
   "source": [
    "### Задание 1.2\n",
    "а) совместна, 1 решение  \n",
    "б) несовместна  \n",
    "в) совместна, бесконечное множество "
   ],
   "metadata": {
    "collapsed": false
   }
  },
  {
   "cell_type": "markdown",
   "source": [
    "### Задание 1.3\n"
   ],
   "metadata": {
    "collapsed": false
   }
  },
  {
   "cell_type": "code",
   "execution_count": 44,
   "outputs": [],
   "source": [
    "import numpy as np\n",
    "import scipy.linalg as sp_linalg"
   ],
   "metadata": {
    "collapsed": false,
    "pycharm": {
     "name": "#%%\n",
     "is_executing": false
    }
   }
  },
  {
   "cell_type": "code",
   "execution_count": 2,
   "outputs": [
    {
     "data": {
      "text/plain": "4"
     },
     "metadata": {},
     "output_type": "execute_result",
     "execution_count": 2
    }
   ],
   "source": [
    "a = np.array([[1, 3, -2, 4], [0, 5, 0 ,1], [0, 0, 3, 0], [0, 0, 0, 2]])\n",
    "np.linalg.matrix_rank(a)"
   ],
   "metadata": {
    "collapsed": false,
    "pycharm": {
     "name": "#%%\n",
     "is_executing": false
    }
   }
  },
  {
   "cell_type": "markdown",
   "source": [
    "Совместна, одно решение"
   ],
   "metadata": {
    "collapsed": false,
    "pycharm": {
     "name": "#%% md\n"
    }
   }
  },
  {
   "cell_type": "markdown",
   "source": [
    "### Задание 1.4\n",
    "\n",
    "$\\begin{pmatrix}\n",
    "\\left.\\begin{matrix}\n",
    "1 & 2 & 3\\\\ \n",
    "4 & 5 & 6\\\\ \n",
    "7 & 8 & 9\n",
    "\\end{matrix}\\right|\n",
    "\\begin{matrix}\n",
    "a\\\\ \n",
    "b\\\\\n",
    "c\n",
    "\\end{matrix}\n",
    "\\end{pmatrix}$ = \n",
    "$\\begin{pmatrix}\n",
    "\\left.\\begin{matrix}\n",
    "1 & 2 & 3\\\\ \n",
    "0 & -3 & -6\\\\ \n",
    "0 & -6 & -12\n",
    "\\end{matrix}\\right|\n",
    "\\begin{matrix}\n",
    "a\\\\ \n",
    "b-4a\\\\\n",
    "c - 7a\n",
    "\\end{matrix}\n",
    "\\end{pmatrix}$\n",
    "  \n",
    "rank($\\tilde{A}$) > rank(A) при c - 7a != 2(b-4a)"
   ],
   "metadata": {
    "collapsed": false,
    "pycharm": {
     "name": "#%% md\n"
    }
   }
  },
  {
   "cell_type": "markdown",
   "source": [
    "### Задание 2.1 и 2.5"
   ],
   "metadata": {
    "collapsed": false
   }
  },
  {
   "cell_type": "code",
   "execution_count": 30,
   "outputs": [],
   "source": [
    "from itertools import permutations\n",
    "from functools import reduce\n",
    "from copy import deepcopy"
   ],
   "metadata": {
    "collapsed": false,
    "pycharm": {
     "name": "#%%\n",
     "is_executing": false
    }
   }
  },
  {
   "cell_type": "code",
   "execution_count": 6,
   "outputs": [],
   "source": [
    "def my_det(a: np.array) -> float:\n",
    "    assert a.shape[0] == a.shape[1]\n",
    "    m = [i for i in range(a.shape[0])]\n",
    "    perm = [p for p in permutations(m)]\n",
    "    inv = []\n",
    "    for p in perm:\n",
    "        inv_ = 0\n",
    "        for pos_i, i in enumerate(p):\n",
    "            for pos_j, j in enumerate(p):\n",
    "                if pos_j > pos_i:\n",
    "                    if i > j:\n",
    "                        inv_ += 1\n",
    "        inv.append(inv_)\n",
    "    res_array = []\n",
    "    for i, p in enumerate(perm):\n",
    "        res = [a[c, r] for c, r in enumerate(p)]\n",
    "        res_reduce = reduce(lambda x, y: x*y, res)\n",
    "        res_array.append(res_reduce * pow(-1, inv[i]))\n",
    "    return sum(res_array)"
   ],
   "metadata": {
    "collapsed": false,
    "pycharm": {
     "name": "#%%\n",
     "is_executing": false
    }
   }
  },
  {
   "cell_type": "markdown",
   "source": [
    "а)  \n",
    "$x_1$ = (-4 + 14) / (-4 + 6) = 10 / 2 = 5  \n",
    "$x_2$ = (7 - 3) / (-4 + 6) = 2  \n",
    "б)"
   ],
   "metadata": {
    "collapsed": false,
    "pycharm": {
     "name": "#%% md\n"
    }
   }
  },
  {
   "cell_type": "code",
   "execution_count": null,
   "outputs": [],
   "source": [
    "def my_kramer(a: np.array, b: np.array) -> np.array:\n",
    "    assert a.shape[0] == a.shape[1]\n",
    "    det_a = my_det(a)\n",
    "    res = np.zeros(a.shape[0])\n",
    "    for x_i in range(a.shape[0]):\n",
    "        a_i = deepcopy(a)\n",
    "        a_i[:, x_i] = b\n",
    "        det_a_i = my_det(a_i)\n",
    "        res[x_i] = det_a_i / det_a\n",
    "    return res"
   ],
   "metadata": {
    "collapsed": false,
    "pycharm": {
     "name": "#%%\n"
    }
   }
  },
  {
   "cell_type": "code",
   "execution_count": 35,
   "outputs": [
    {
     "name": "stdout",
     "text": [
      "Решение уравнения [ 2. -1.  1.]\n"
     ],
     "output_type": "stream"
    }
   ],
   "source": [
    "a = np.array([[2, -1, 5], \n",
    "              [1, 1, -3],\n",
    "              [2, 4, 1]])\n",
    "b = np.array([10, -2, 1])\n",
    "print(f'Решение уравнения {my_kramer(a, b)}')"
   ],
   "metadata": {
    "collapsed": false,
    "pycharm": {
     "name": "#%%\n",
     "is_executing": false
    }
   }
  },
  {
   "cell_type": "markdown",
   "source": [
    "### Задание 2.2\n",
    "a)\n",
    "L = \n",
    "$\\begin{pmatrix}\n",
    "1 & 0 & 0\\\\ \n",
    "2 & 1 & 0\\\\ \n",
    "3 & 4 & 1\n",
    "\\end{pmatrix}$\n",
    "\n",
    "б)\n",
    "L = \n",
    "$\\begin{pmatrix}\n",
    "1 & 0 & 0 & 0\\\\ \n",
    "2 & 1 & 0 & 0\\\\ \n",
    "3 & 5 & 1 & 0\\\\\n",
    "4 & 6 & 7 & 1 \n",
    "\\end{pmatrix}$\n"
   ],
   "metadata": {
    "collapsed": false,
    "pycharm": {
     "name": "#%% md\n"
    }
   }
  },
  {
   "cell_type": "markdown",
   "source": [
    "### Задание 2.3\n",
    "$\\begin{pmatrix}\n",
    "2 & 1 & 3\\\\ \n",
    "11 & 7 & 5\\\\ \n",
    "9 & 8 & 4\n",
    "\\end{pmatrix}$\n",
    "=\n",
    "$\\begin{pmatrix}\n",
    "11 & 7 & 5\\\\ \n",
    "9 & 8 & 4\\\\ \n",
    "2 & 1 & 3\n",
    "\\end{pmatrix}$\n",
    "=\n",
    "$\\begin{pmatrix}\n",
    "11 & 7 & 5\\\\ \n",
    "0 & 2.272727 & -0.090909\\\\ \n",
    "0 & -0.272727 & 2.090909\n",
    "\\end{pmatrix}$  \n",
    "\n",
    "U = \n",
    "$\\begin{pmatrix}\n",
    "11 & 7 & 5\\\\ \n",
    "0 & 2.272727 & -0.0909\\\\ \n",
    "0 & 0 & 2.08\n",
    "\\end{pmatrix}$\n",
    "\n",
    "L = \n",
    "$\\begin{pmatrix}\n",
    "1 & 0 & 0\\\\ \n",
    "0.81818182 & 1 & 0\\\\ \n",
    "0.18181818 & -0.12 & 1\n",
    "\\end{pmatrix}$\n",
    "\n",
    "B = $\\begin{pmatrix}\n",
    "-6\\\\ \n",
    "-5\\\\ \n",
    "1\n",
    "\\end{pmatrix}$\n",
    "\n",
    "$\\begin{cases}\n",
    "y_{1}=-6, \\\\\n",
    "0.818181 * (-6)+y_{2}=-5, y_{2} = -0.090909 \\\\\n",
    "0.181818 * (-6) + (-0.12)*(-0.0909) + y_{3} = 1, y_{3} = 2.08.\n",
    "\\end{cases}$ "
   ],
   "metadata": {
    "collapsed": false,
    "pycharm": {
     "name": "#%% md\n"
    }
   }
  },
  {
   "cell_type": "markdown",
   "source": [
    "$\\begin{cases}\n",
    "11x_{1} + 7x_{2} + 5x_{3} = -6, \\\\\n",
    "2.272727x_{2} - 0.090909x_{3} = -0.090909, x_{2} = 0 \\\\\n",
    "2.08x_{3} = 2.08\n",
    "\\end{cases}$ \n",
    "x_{3}=-1, x_{2} = 0, x_{3} = 1"
   ],
   "metadata": {
    "collapsed": false,
    "pycharm": {
     "name": "#%% md\n",
     "is_executing": false
    }
   }
  },
  {
   "cell_type": "code",
   "execution_count": 54,
   "outputs": [
    {
     "data": {
      "text/plain": "array([-1.,  0.,  1.])"
     },
     "metadata": {},
     "output_type": "execute_result",
     "execution_count": 54
    }
   ],
   "source": [
    "a = np.array([[2,1,3],\n",
    "              [11,7,5],\n",
    "              [9,8,4]])\n",
    "sp_linalg.lu_solve(sp_linalg.lu_factor(a), [1, -6, -5])"
   ],
   "metadata": {
    "collapsed": false,
    "pycharm": {
     "name": "#%%\n",
     "is_executing": false
    }
   }
  },
  {
   "cell_type": "markdown",
   "source": [
    "### Задание 2.4\n",
    "$\\begin{cases}\n",
    "81x_{1}-45x_{2}+45x_{3}=531 \\\\\n",
    "-45x_{1}+50x_{2}-15x_{3}=-460 \\\\\n",
    "45x_{1}-15x_{2}+38x_{3}=193\n",
    "\\end{cases}$\n",
    "\n",
    "$l_{11}=\\sqrt{a_{11}}=\\sqrt{81} = 9,$  \n",
    "$l_{21}=\\frac{a_{21}}{l_{11}}=\\frac{-45}{9} = -5,$  \n",
    "$l_{31}=\\frac{a_{31}}{l_{11}}=\\frac{45}{9} = 5,$  \n",
    "\n",
    "$l_{22}=\\sqrt{a_{22}-u_{21}^{2}}=\\sqrt{50 - 25}=5,$  \n",
    "$l_{32}=\\frac{1}{l_{22}}\\left ( a_{32}-l_{21}l_{31} \\right)=\\frac{1}{5}\\left (-15 - (-5)* 5 \\right)=2,$\n",
    "\n",
    "$l_{33}=\\sqrt{a_{33}-l_{13}^{2}-l_{23}^{2}}=\\sqrt{38-25-4}=3.$\n",
    "\n",
    "$L = \\begin{pmatrix}\n",
    "9 & 0 & 0 \\\\ \n",
    "-5 & 5 & 0 \\\\ \n",
    "5 & 2 & 3\n",
    "\\end{pmatrix}$\n",
    "\n",
    "$L^T = \\begin{pmatrix}\n",
    "9 & -5 & 5 \\\\ \n",
    "0 & 5 & 2 \\\\ \n",
    "0 & 0 & 3\n",
    "\\end{pmatrix}$\n",
    "\n",
    "$\\begin{cases}\n",
    "9y_{1}=531, y_{1}=59 \\\\\n",
    "-5*59+5y_{2}=-460, y_{2}=-33 \\\\\n",
    "5 * 59 + 2 * (-33) + 3y_{3}=193, y_{3} = -12\n",
    "\\end{cases}$\n",
    "\n",
    "$x_{3} = -4$  \n",
    "$5x_2 - 8 = -33, x_{2} = -5$  \n",
    "$9x_{1} + 25 - 20 = 59, x_{1} = 6$\n",
    "\n",
    "$x_{1} = 6, x_{2} = -5, x_{3} = -4$"
   ],
   "metadata": {
    "collapsed": false
   }
  },
  {
   "cell_type": "code",
   "execution_count": 56,
   "outputs": [
    {
     "data": {
      "text/plain": "-12.0"
     },
     "metadata": {},
     "output_type": "execute_result",
     "execution_count": 56
    }
   ],
   "source": [],
   "metadata": {
    "collapsed": false,
    "pycharm": {
     "name": "#%%\n",
     "is_executing": false
    }
   }
  },
  {
   "cell_type": "code",
   "execution_count": null,
   "outputs": [],
   "source": [
    "\n"
   ],
   "metadata": {
    "collapsed": false,
    "pycharm": {
     "name": "#%%\n"
    }
   }
  }
 ],
 "metadata": {
  "kernelspec": {
   "display_name": "Python 3",
   "language": "python",
   "name": "python3"
  },
  "language_info": {
   "codemirror_mode": {
    "name": "ipython",
    "version": 2
   },
   "file_extension": ".py",
   "mimetype": "text/x-python",
   "name": "python",
   "nbconvert_exporter": "python",
   "pygments_lexer": "ipython2",
   "version": "2.7.6"
  },
  "pycharm": {
   "stem_cell": {
    "cell_type": "raw",
    "source": [],
    "metadata": {
     "collapsed": false
    }
   }
  }
 },
 "nbformat": 4,
 "nbformat_minor": 0
}