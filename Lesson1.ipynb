{
 "cells": [
  {
   "cell_type": "code",
   "execution_count": 3,
   "outputs": [],
   "source": [
    "import numpy as np"
   ],
   "metadata": {
    "collapsed": false,
    "pycharm": {
     "name": "#%%\n",
     "is_executing": false
    }
   }
  },
  {
   "cell_type": "markdown",
   "source": [
    "### Задание 1.1  \n",
    "Исследовать на линейную зависимость:\n",
    "$f_1$(x) = $e^x$,$f_2$(x) = 1, $f_3$(x) = x + 1, $f_4$ = x - $e^x$\n",
    "\n"
   ],
   "metadata": {
    "collapsed": false,
    "pycharm": {
     "name": "#%% md\n"
    }
   }
  },
  {
   "cell_type": "markdown",
   "source": [
    "### Решение 1.1  \n",
    "Коэффициенты при которых сумма векторов = 0 - (1, 1, -1, 1),  \n",
    "так как есть хотя бы один ненулевой - вектора линейно зависимы."
   ],
   "metadata": {
    "collapsed": false,
    "pycharm": {
     "name": "#%% md\n"
    }
   }
  },
  {
   "cell_type": "markdown",
   "source": [
    "### Задание 1.2  \n",
    "Исследовать на линейную зависимость:\n",
    "$f_1$(x) = 2,$f_2$(x) = x, $f_3$(x) = $x^2$, $f_4$ = $(x + 1)^2$"
   ],
   "metadata": {
    "collapsed": false
   }
  },
  {
   "cell_type": "markdown",
   "source": [
    "### Решение 1.2  \n",
    "Коэффициенты при которых сумма векторов = 0 - (-0.5, 2, -1, 1),  \n",
    "так как есть хотя бы один ненулевой - вектора линейно зависимы."
   ],
   "metadata": {
    "collapsed": false,
    "pycharm": {
     "name": "#%% md\n"
    }
   }
  },
  {
   "cell_type": "markdown",
   "source": [
    "### Задание 1.3  \n",
    "Найти координаты вектора x =(2,3,5) ∈ $R^3$ в базисе  \n",
    "$b_1$ = (0, 0, 10), $b_2$ = (2, 0, 0), $b_1$ = (0, 1, 0) "
   ],
   "metadata": {
    "collapsed": false
   }
  },
  {
   "cell_type": "markdown",
   "source": [
    "### Решение 1.3  \n",
    "(0.5, 1, 3)"
   ],
   "metadata": {
    "collapsed": false
   }
  },
  {
   "cell_type": "markdown",
   "source": [
    "### Задание 1.4  \n",
    "Найти координаты вектора 3$x^2$ - 2x + 2 ∈ $R^3$[x]:  \n",
    "a) в базисе 1, x, $x^2$;  \n",
    "b) в базисе $x^2$, x-1, 1."
   ],
   "metadata": {
    "collapsed": false,
    "pycharm": {
     "name": "#%% md\n"
    }
   }
  },
  {
   "cell_type": "markdown",
   "source": [
    "### Решение 1.4  \n",
    "a) (2, -2, 3)  \n",
    "b) (3, -2, 0)"
   ],
   "metadata": {
    "collapsed": false
   }
  },
  {
   "cell_type": "markdown",
   "source": [
    "### Задание 1.5  \n",
    "Установить, является ли линейным подпространством:  \n",
    "а) совокупность всех векторов трехмерного пространства,  \n",
    "у которых по крайней мере одна из первых двух координат равна нулю;\n",
    "б) все векторы, являющиеся линейными комбинациями данных векторов  {u1, u2, ..., $u_n$}."
   ],
   "metadata": {
    "collapsed": false
   }
  },
  {
   "cell_type": "markdown",
   "source": [
    "### Решение 1.4  \n",
    "a) Нет, (0, a, b) + (c, 0, d) = (c, a, b+d) - вектор не принадлежит исходному подпространству.  \n",
    "b) будет линейным.  "
   ],
   "metadata": {
    "collapsed": false
   }
  },
  {
   "cell_type": "markdown",
   "source": [
    "### Задание 2.1\n",
    "Найти скалярное произведение векторов x, y ∈ ℝ:    \n",
    "a)  x=(0,−3,6), y=(−4,7,9);   \n",
    "b)  x=(7,−4,0,1), y=(−3,1,11,2).   "
   ],
   "metadata": {
    "collapsed": false,
    "pycharm": {
     "name": "#%% md\n"
    }
   }
  },
  {
   "cell_type": "markdown",
   "source": [
    "### Решение 2.1\n",
    "a)  "
   ],
   "metadata": {
    "collapsed": false
   }
  },
  {
   "cell_type": "code",
   "execution_count": 1,
   "outputs": [
    {
     "data": {
      "text/plain": "33"
     },
     "metadata": {},
     "output_type": "execute_result",
     "execution_count": 1
    }
   ],
   "source": [
    "0 * (-4) - 3 * 7 + 6 * 9  "
   ],
   "metadata": {
    "collapsed": false,
    "pycharm": {
     "name": "#%%\n",
     "is_executing": false
    }
   }
  },
  {
   "cell_type": "code",
   "execution_count": 2,
   "outputs": [
    {
     "data": {
      "text/plain": "-23"
     },
     "metadata": {},
     "output_type": "execute_result",
     "execution_count": 2
    }
   ],
   "source": [
    "7 * (-3) - 4 * 1 + 0 * 11 + 1 * 2"
   ],
   "metadata": {
    "collapsed": false,
    "pycharm": {
     "name": "#%%\n",
     "is_executing": false
    }
   }
  },
  {
   "cell_type": "markdown",
   "source": [
    "### Задание 2.2  \n",
    "Найти нормы векторов (4,2,4) и (12,3,4) и угол между ними  "
   ],
   "metadata": {
    "collapsed": false,
    "pycharm": {
     "name": "#%% md\n"
    }
   }
  },
  {
   "cell_type": "markdown",
   "source": [
    "нормы"
   ],
   "metadata": {
    "collapsed": false,
    "pycharm": {
     "name": "#%% md\n"
    }
   }
  },
  {
   "cell_type": "code",
   "execution_count": 6,
   "outputs": [
    {
     "name": "stdout",
     "text": [
      "Норма первого вектора  6.0\n"
     ],
     "output_type": "stream"
    }
   ],
   "source": [
    "n1 = np.sqrt(4 * 4 + 2 * 2 + 4 * 4)\n",
    "print(f'Норма первого вектора  {n1}')"
   ],
   "metadata": {
    "collapsed": false,
    "pycharm": {
     "name": "#%%\n",
     "is_executing": false
    }
   }
  },
  {
   "cell_type": "code",
   "execution_count": 7,
   "outputs": [
    {
     "name": "stdout",
     "text": [
      "Норма второго вектора  13.0\n"
     ],
     "output_type": "stream"
    }
   ],
   "source": [
    "n2 = np.sqrt(12 * 12 + 3 * 3 + 4 * 4)\n",
    "print(f'Норма второго вектора  {n2}')"
   ],
   "metadata": {
    "collapsed": false,
    "pycharm": {
     "name": "#%%\n",
     "is_executing": false
    }
   }
  },
  {
   "cell_type": "code",
   "execution_count": 8,
   "outputs": [
    {
     "name": "stdout",
     "text": [
      "Косинус угла равн 0.8974358974358975\n"
     ],
     "output_type": "stream"
    }
   ],
   "source": [
    "cos_fi = (4 * 12 + 2 * 3 + 4 * 4) / (n1 * n2)\n",
    "print(f'Косинус угла равн {cos_fi}')"
   ],
   "metadata": {
    "collapsed": false,
    "pycharm": {
     "name": "#%%\n",
     "is_executing": false
    }
   }
  },
  {
   "cell_type": "markdown",
   "source": [
    "### Задаине 2.3\n",
    "Будет ли линейное пространство евклидовым, если за скалярное произведение принять:  \n",
    "а) произведение длин векторов;  \n",
    "б) утроенное обычное скалярное произведение векторов?  "
   ],
   "metadata": {
    "collapsed": false,
    "pycharm": {
     "name": "#%% md\n"
    }
   }
  },
  {
   "cell_type": "markdown",
   "source": [
    "### Решение 2.3\n",
    "a) да\n",
    "b) да"
   ],
   "metadata": {
    "collapsed": false
   }
  },
  {
   "cell_type": "markdown",
   "source": [
    "### Задание 2.4\n",
    "Какие из нижеперечисленных векторов образуют ортонормированный базис в линейном пространстве  ℝ"
   ],
   "metadata": {
    "collapsed": false,
    "pycharm": {
     "name": "#%% md\n"
    }
   }
  },
  {
   "cell_type": "markdown",
   "source": [
    "### Решеине 2.4  \n",
    "а) нет - пропущен один вектор  \n",
    "б) да - скалярное произведение векторов между собой равно 0, их длина 1  \n",
    "в) нет - длина не равна 1  \n",
    "г) да\n"
   ],
   "metadata": {
    "collapsed": false
   }
  }
 ],
 "metadata": {
  "kernelspec": {
   "display_name": "Python 3",
   "language": "python",
   "name": "python3"
  },
  "language_info": {
   "codemirror_mode": {
    "name": "ipython",
    "version": 2
   },
   "file_extension": ".py",
   "mimetype": "text/x-python",
   "name": "python",
   "nbconvert_exporter": "python",
   "pygments_lexer": "ipython2",
   "version": "2.7.6"
  },
  "pycharm": {
   "stem_cell": {
    "cell_type": "raw",
    "source": [],
    "metadata": {
     "collapsed": false
    }
   }
  }
 },
 "nbformat": 4,
 "nbformat_minor": 0
}